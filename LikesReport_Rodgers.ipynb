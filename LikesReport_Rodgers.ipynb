{
 "cells": [
  {
   "cell_type": "markdown",
   "id": "20dd9b0f-3cfd-457a-88b2-81dcaa69ee22",
   "metadata": {},
   "source": [
    "# Likes Report"
   ]
  },
  {
   "cell_type": "markdown",
   "id": "5bbe5d89-613a-44d3-892a-144b89b05295",
   "metadata": {},
   "source": [
    "### Clare Rodgers\n",
    "### September 10, 2025"
   ]
  },
  {
   "cell_type": "markdown",
   "id": "a5e260f6-2d69-4797-b1d2-b35d81e0770a",
   "metadata": {},
   "source": [
    "## Section 1"
   ]
  },
  {
   "cell_type": "markdown",
   "id": "2e7f9406-cbad-4919-ba16-77210fe3c77a",
   "metadata": {},
   "source": [
    "\n",
    "- Who or what is the source of your personal Instagram data? (you downloaded the data, but did you create it?)\n",
    "\n",
    "  **The source of the data is both myself and Meta. I was the person liking posts, the data here was gathered from my liked posts, but Meta was what kept track of the data for me to download it.** \n",
    "- Why was this data created and what purposes can the data serve?\n",
    "\n",
    "  **This data was created to keep track of the posts that I like on Instagram. The purpose this data can serve is to help Instagram create an algorithm that best suits my interests. With an algorithm that aligns with my interests, I will be more likely to spend time on the app.**\n",
    "- In what ways may this data be reliable?\n",
    "\n",
    "  **This data may be reliable because I downloaded it right from Instagram. I hope that Meta would not tamper with the data.**\n",
    "- In what ways may this data be unreliable?\n",
    "\n",
    "   **This data may be unreliable because Meta could have potentially tampered with the data.**"
   ]
  },
  {
   "cell_type": "markdown",
   "id": "711776b9-db60-4e70-b01d-5396592ae4b7",
   "metadata": {},
   "source": [
    "## Section 2\n",
    "Open and load json file"
   ]
  },
  {
   "cell_type": "code",
   "execution_count": 1,
   "id": "e6492ac9-459f-4afd-ac7a-45f5362e8356",
   "metadata": {},
   "outputs": [],
   "source": [
    "# These are imports we need\n",
    "import json \n",
    "import pandas as pd\n",
    "import matplotlib as plt"
   ]
  },
  {
   "cell_type": "code",
   "execution_count": 2,
   "id": "9ac94f74-1409-407d-af00-76ddb4ced8ca",
   "metadata": {},
   "outputs": [],
   "source": [
    "path = r\"/Users/clarencerodgers/Downloads/instagram-silly_go0fy-2025-08-25-bAFcXbZj/your_instagram_activity/likes/liked_posts.json\"\n",
    "with open(path) as l:\n",
    "    dict = json.load(l)"
   ]
  },
  {
   "cell_type": "markdown",
   "id": "f50f3561-8be2-4d52-bb52-48719f400aef",
   "metadata": {},
   "source": [
    "## Section 3\n",
    "Convert the data into DataFrame object and assign it to a new variable using pandas DataFrame function"
   ]
  },
  {
   "cell_type": "code",
   "execution_count": 3,
   "id": "9af5ed4b-2f66-4fc2-b82c-622b860da5ec",
   "metadata": {},
   "outputs": [
    {
     "data": {
      "text/html": [
       "<div>\n",
       "<style scoped>\n",
       "    .dataframe tbody tr th:only-of-type {\n",
       "        vertical-align: middle;\n",
       "    }\n",
       "\n",
       "    .dataframe tbody tr th {\n",
       "        vertical-align: top;\n",
       "    }\n",
       "\n",
       "    .dataframe thead th {\n",
       "        text-align: right;\n",
       "    }\n",
       "</style>\n",
       "<table border=\"1\" class=\"dataframe\">\n",
       "  <thead>\n",
       "    <tr style=\"text-align: right;\">\n",
       "      <th></th>\n",
       "      <th>likes_media_likes</th>\n",
       "    </tr>\n",
       "  </thead>\n",
       "  <tbody>\n",
       "    <tr>\n",
       "      <th>0</th>\n",
       "      <td>{'title': 'thekentstater', 'string_list_data':...</td>\n",
       "    </tr>\n",
       "    <tr>\n",
       "      <th>1</th>\n",
       "      <td>{'title': 'twilight.memes.forever', 'string_li...</td>\n",
       "    </tr>\n",
       "    <tr>\n",
       "      <th>2</th>\n",
       "      <td>{'title': 'dinoche.stinky', 'string_list_data'...</td>\n",
       "    </tr>\n",
       "    <tr>\n",
       "      <th>3</th>\n",
       "      <td>{'title': 'l3x1_lars0n', 'string_list_data': [...</td>\n",
       "    </tr>\n",
       "    <tr>\n",
       "      <th>4</th>\n",
       "      <td>{'title': 'microwavecorndog', 'string_list_dat...</td>\n",
       "    </tr>\n",
       "  </tbody>\n",
       "</table>\n",
       "</div>"
      ],
      "text/plain": [
       "                                   likes_media_likes\n",
       "0  {'title': 'thekentstater', 'string_list_data':...\n",
       "1  {'title': 'twilight.memes.forever', 'string_li...\n",
       "2  {'title': 'dinoche.stinky', 'string_list_data'...\n",
       "3  {'title': 'l3x1_lars0n', 'string_list_data': [...\n",
       "4  {'title': 'microwavecorndog', 'string_list_dat..."
      ]
     },
     "execution_count": 3,
     "metadata": {},
     "output_type": "execute_result"
    }
   ],
   "source": [
    "df = pd.DataFrame(dict)\n",
    "df.head()"
   ]
  },
  {
   "cell_type": "code",
   "execution_count": 4,
   "id": "152bacdf-7008-4ae7-900b-6251e2bd0859",
   "metadata": {},
   "outputs": [
    {
     "data": {
      "text/plain": [
       "dict_keys(['likes_media_likes'])"
      ]
     },
     "execution_count": 4,
     "metadata": {},
     "output_type": "execute_result"
    }
   ],
   "source": [
    "dict.keys()"
   ]
  },
  {
   "cell_type": "code",
   "execution_count": 5,
   "id": "cc477fe2-3a4e-4f7f-b472-bdeaeb505e19",
   "metadata": {},
   "outputs": [
    {
     "data": {
      "text/html": [
       "<div>\n",
       "<style scoped>\n",
       "    .dataframe tbody tr th:only-of-type {\n",
       "        vertical-align: middle;\n",
       "    }\n",
       "\n",
       "    .dataframe tbody tr th {\n",
       "        vertical-align: top;\n",
       "    }\n",
       "\n",
       "    .dataframe thead th {\n",
       "        text-align: right;\n",
       "    }\n",
       "</style>\n",
       "<table border=\"1\" class=\"dataframe\">\n",
       "  <thead>\n",
       "    <tr style=\"text-align: right;\">\n",
       "      <th></th>\n",
       "      <th>title</th>\n",
       "      <th>string_list_data</th>\n",
       "    </tr>\n",
       "  </thead>\n",
       "  <tbody>\n",
       "    <tr>\n",
       "      <th>0</th>\n",
       "      <td>thekentstater</td>\n",
       "      <td>[{'href': 'https://www.instagram.com/p/DNx93w4...</td>\n",
       "    </tr>\n",
       "    <tr>\n",
       "      <th>1</th>\n",
       "      <td>twilight.memes.forever</td>\n",
       "      <td>[{'href': 'https://www.instagram.com/p/DNtWMcL...</td>\n",
       "    </tr>\n",
       "    <tr>\n",
       "      <th>2</th>\n",
       "      <td>dinoche.stinky</td>\n",
       "      <td>[{'href': 'https://www.instagram.com/reel/DK-c...</td>\n",
       "    </tr>\n",
       "    <tr>\n",
       "      <th>3</th>\n",
       "      <td>l3x1_lars0n</td>\n",
       "      <td>[{'href': 'https://www.instagram.com/reel/DLao...</td>\n",
       "    </tr>\n",
       "    <tr>\n",
       "      <th>4</th>\n",
       "      <td>microwavecorndog</td>\n",
       "      <td>[{'href': 'https://www.instagram.com/reel/DM9W...</td>\n",
       "    </tr>\n",
       "  </tbody>\n",
       "</table>\n",
       "</div>"
      ],
      "text/plain": [
       "                    title                                   string_list_data\n",
       "0           thekentstater  [{'href': 'https://www.instagram.com/p/DNx93w4...\n",
       "1  twilight.memes.forever  [{'href': 'https://www.instagram.com/p/DNtWMcL...\n",
       "2          dinoche.stinky  [{'href': 'https://www.instagram.com/reel/DK-c...\n",
       "3             l3x1_lars0n  [{'href': 'https://www.instagram.com/reel/DLao...\n",
       "4        microwavecorndog  [{'href': 'https://www.instagram.com/reel/DM9W..."
      ]
     },
     "execution_count": 5,
     "metadata": {},
     "output_type": "execute_result"
    }
   ],
   "source": [
    "df_tidy = pd.DataFrame(dict['likes_media_likes'])\n",
    "df_tidy.head()"
   ]
  },
  {
   "cell_type": "markdown",
   "id": "b95ea850-08ec-4dd5-8317-82fd4675ff19",
   "metadata": {},
   "source": [
    "## Section 4\n",
    "Create a new column in DataFrame and assign timestamp values to each like in the new column"
   ]
  },
  {
   "cell_type": "code",
   "execution_count": 6,
   "id": "ec90a395-0f37-4b14-8c90-8ac1aa407c08",
   "metadata": {},
   "outputs": [
    {
     "data": {
      "text/plain": [
       "[{'href': 'https://www.instagram.com/p/DNx93w4wDVl/',\n",
       "  'value': 'ð\\x9f\\x91\\x8d',\n",
       "  'timestamp': 1756135410}]"
      ]
     },
     "execution_count": 6,
     "metadata": {},
     "output_type": "execute_result"
    }
   ],
   "source": [
    "df_tidy['string_list_data'].iloc[0]"
   ]
  },
  {
   "cell_type": "code",
   "execution_count": 7,
   "id": "637c6edf-1467-432a-bffd-aa354dc6b753",
   "metadata": {},
   "outputs": [
    {
     "data": {
      "text/plain": [
       "list"
      ]
     },
     "execution_count": 7,
     "metadata": {},
     "output_type": "execute_result"
    }
   ],
   "source": [
    "type(df_tidy['string_list_data'].iloc[0])"
   ]
  },
  {
   "cell_type": "code",
   "execution_count": 8,
   "id": "92cdc013-a998-4537-924c-fd10ceb5960d",
   "metadata": {},
   "outputs": [
    {
     "data": {
      "text/plain": [
       "1"
      ]
     },
     "execution_count": 8,
     "metadata": {},
     "output_type": "execute_result"
    }
   ],
   "source": [
    "len(df_tidy['string_list_data'].iloc[0])"
   ]
  },
  {
   "cell_type": "code",
   "execution_count": 9,
   "id": "8080c1b2-20fa-4ca9-9f38-deea6a14d17e",
   "metadata": {},
   "outputs": [
    {
     "data": {
      "text/plain": [
       "{'href': 'https://www.instagram.com/p/DNx93w4wDVl/',\n",
       " 'value': 'ð\\x9f\\x91\\x8d',\n",
       " 'timestamp': 1756135410}"
      ]
     },
     "execution_count": 9,
     "metadata": {},
     "output_type": "execute_result"
    }
   ],
   "source": [
    "df_tidy['string_list_data'].iloc[0][0]"
   ]
  },
  {
   "cell_type": "code",
   "execution_count": 10,
   "id": "735ca565-5731-4c53-af82-55d6802047a2",
   "metadata": {},
   "outputs": [
    {
     "data": {
      "text/plain": [
       "1756135410"
      ]
     },
     "execution_count": 10,
     "metadata": {},
     "output_type": "execute_result"
    }
   ],
   "source": [
    "df_tidy['string_list_data'].iloc[0][0]['timestamp']"
   ]
  },
  {
   "cell_type": "code",
   "execution_count": 11,
   "id": "cfa416ee-e15c-4049-aa79-0e7e48b767ea",
   "metadata": {},
   "outputs": [
    {
     "data": {
      "text/html": [
       "<div>\n",
       "<style scoped>\n",
       "    .dataframe tbody tr th:only-of-type {\n",
       "        vertical-align: middle;\n",
       "    }\n",
       "\n",
       "    .dataframe tbody tr th {\n",
       "        vertical-align: top;\n",
       "    }\n",
       "\n",
       "    .dataframe thead th {\n",
       "        text-align: right;\n",
       "    }\n",
       "</style>\n",
       "<table border=\"1\" class=\"dataframe\">\n",
       "  <thead>\n",
       "    <tr style=\"text-align: right;\">\n",
       "      <th></th>\n",
       "      <th>title</th>\n",
       "      <th>string_list_data</th>\n",
       "      <th>Time of Like</th>\n",
       "    </tr>\n",
       "  </thead>\n",
       "  <tbody>\n",
       "    <tr>\n",
       "      <th>0</th>\n",
       "      <td>thekentstater</td>\n",
       "      <td>[{'href': 'https://www.instagram.com/p/DNx93w4...</td>\n",
       "      <td>1756135410</td>\n",
       "    </tr>\n",
       "    <tr>\n",
       "      <th>1</th>\n",
       "      <td>twilight.memes.forever</td>\n",
       "      <td>[{'href': 'https://www.instagram.com/p/DNtWMcL...</td>\n",
       "      <td>1756097990</td>\n",
       "    </tr>\n",
       "    <tr>\n",
       "      <th>2</th>\n",
       "      <td>dinoche.stinky</td>\n",
       "      <td>[{'href': 'https://www.instagram.com/reel/DK-c...</td>\n",
       "      <td>1756097922</td>\n",
       "    </tr>\n",
       "    <tr>\n",
       "      <th>3</th>\n",
       "      <td>l3x1_lars0n</td>\n",
       "      <td>[{'href': 'https://www.instagram.com/reel/DLao...</td>\n",
       "      <td>1756097892</td>\n",
       "    </tr>\n",
       "    <tr>\n",
       "      <th>4</th>\n",
       "      <td>microwavecorndog</td>\n",
       "      <td>[{'href': 'https://www.instagram.com/reel/DM9W...</td>\n",
       "      <td>1756097830</td>\n",
       "    </tr>\n",
       "  </tbody>\n",
       "</table>\n",
       "</div>"
      ],
      "text/plain": [
       "                    title                                   string_list_data  \\\n",
       "0           thekentstater  [{'href': 'https://www.instagram.com/p/DNx93w4...   \n",
       "1  twilight.memes.forever  [{'href': 'https://www.instagram.com/p/DNtWMcL...   \n",
       "2          dinoche.stinky  [{'href': 'https://www.instagram.com/reel/DK-c...   \n",
       "3             l3x1_lars0n  [{'href': 'https://www.instagram.com/reel/DLao...   \n",
       "4        microwavecorndog  [{'href': 'https://www.instagram.com/reel/DM9W...   \n",
       "\n",
       "   Time of Like  \n",
       "0    1756135410  \n",
       "1    1756097990  \n",
       "2    1756097922  \n",
       "3    1756097892  \n",
       "4    1756097830  "
      ]
     },
     "execution_count": 11,
     "metadata": {},
     "output_type": "execute_result"
    }
   ],
   "source": [
    "df_tidy['Time of Like'] = [ i [0]['timestamp'] for i in df_tidy['string_list_data'] ]\n",
    "\n",
    "df_tidy.head()"
   ]
  },
  {
   "cell_type": "code",
   "execution_count": 12,
   "id": "cef44d48-524e-4eea-b3f6-1e901c25081a",
   "metadata": {},
   "outputs": [],
   "source": [
    "# Good to have \n",
    "from datetime import datetime\n",
    "df_tidy['Date of Like'] = [ datetime.fromtimestamp(i [0]['timestamp']) for i in df_tidy['string_list_data'] ]"
   ]
  },
  {
   "cell_type": "code",
   "execution_count": 13,
   "id": "a887d4a1-02e9-4bbb-93c1-f065a0f424d0",
   "metadata": {},
   "outputs": [
    {
     "data": {
      "text/html": [
       "<div>\n",
       "<style scoped>\n",
       "    .dataframe tbody tr th:only-of-type {\n",
       "        vertical-align: middle;\n",
       "    }\n",
       "\n",
       "    .dataframe tbody tr th {\n",
       "        vertical-align: top;\n",
       "    }\n",
       "\n",
       "    .dataframe thead th {\n",
       "        text-align: right;\n",
       "    }\n",
       "</style>\n",
       "<table border=\"1\" class=\"dataframe\">\n",
       "  <thead>\n",
       "    <tr style=\"text-align: right;\">\n",
       "      <th></th>\n",
       "      <th>title</th>\n",
       "      <th>string_list_data</th>\n",
       "      <th>Time of Like</th>\n",
       "      <th>Date of Like</th>\n",
       "    </tr>\n",
       "  </thead>\n",
       "  <tbody>\n",
       "    <tr>\n",
       "      <th>0</th>\n",
       "      <td>thekentstater</td>\n",
       "      <td>[{'href': 'https://www.instagram.com/p/DNx93w4...</td>\n",
       "      <td>1756135410</td>\n",
       "      <td>2025-08-25 11:23:30</td>\n",
       "    </tr>\n",
       "    <tr>\n",
       "      <th>1</th>\n",
       "      <td>twilight.memes.forever</td>\n",
       "      <td>[{'href': 'https://www.instagram.com/p/DNtWMcL...</td>\n",
       "      <td>1756097990</td>\n",
       "      <td>2025-08-25 00:59:50</td>\n",
       "    </tr>\n",
       "    <tr>\n",
       "      <th>2</th>\n",
       "      <td>dinoche.stinky</td>\n",
       "      <td>[{'href': 'https://www.instagram.com/reel/DK-c...</td>\n",
       "      <td>1756097922</td>\n",
       "      <td>2025-08-25 00:58:42</td>\n",
       "    </tr>\n",
       "    <tr>\n",
       "      <th>3</th>\n",
       "      <td>l3x1_lars0n</td>\n",
       "      <td>[{'href': 'https://www.instagram.com/reel/DLao...</td>\n",
       "      <td>1756097892</td>\n",
       "      <td>2025-08-25 00:58:12</td>\n",
       "    </tr>\n",
       "    <tr>\n",
       "      <th>4</th>\n",
       "      <td>microwavecorndog</td>\n",
       "      <td>[{'href': 'https://www.instagram.com/reel/DM9W...</td>\n",
       "      <td>1756097830</td>\n",
       "      <td>2025-08-25 00:57:10</td>\n",
       "    </tr>\n",
       "  </tbody>\n",
       "</table>\n",
       "</div>"
      ],
      "text/plain": [
       "                    title                                   string_list_data  \\\n",
       "0           thekentstater  [{'href': 'https://www.instagram.com/p/DNx93w4...   \n",
       "1  twilight.memes.forever  [{'href': 'https://www.instagram.com/p/DNtWMcL...   \n",
       "2          dinoche.stinky  [{'href': 'https://www.instagram.com/reel/DK-c...   \n",
       "3             l3x1_lars0n  [{'href': 'https://www.instagram.com/reel/DLao...   \n",
       "4        microwavecorndog  [{'href': 'https://www.instagram.com/reel/DM9W...   \n",
       "\n",
       "   Time of Like        Date of Like  \n",
       "0    1756135410 2025-08-25 11:23:30  \n",
       "1    1756097990 2025-08-25 00:59:50  \n",
       "2    1756097922 2025-08-25 00:58:42  \n",
       "3    1756097892 2025-08-25 00:58:12  \n",
       "4    1756097830 2025-08-25 00:57:10  "
      ]
     },
     "execution_count": 13,
     "metadata": {},
     "output_type": "execute_result"
    }
   ],
   "source": [
    "df_tidy.head()"
   ]
  },
  {
   "cell_type": "code",
   "execution_count": 14,
   "id": "29d48c33-2fd3-4ddf-91e6-164caaad9f08",
   "metadata": {},
   "outputs": [
    {
     "data": {
      "text/html": [
       "<div>\n",
       "<style scoped>\n",
       "    .dataframe tbody tr th:only-of-type {\n",
       "        vertical-align: middle;\n",
       "    }\n",
       "\n",
       "    .dataframe tbody tr th {\n",
       "        vertical-align: top;\n",
       "    }\n",
       "\n",
       "    .dataframe thead th {\n",
       "        text-align: right;\n",
       "    }\n",
       "</style>\n",
       "<table border=\"1\" class=\"dataframe\">\n",
       "  <thead>\n",
       "    <tr style=\"text-align: right;\">\n",
       "      <th></th>\n",
       "      <th>title</th>\n",
       "      <th>string_list_data</th>\n",
       "      <th>Time of Like</th>\n",
       "      <th>Date of Like</th>\n",
       "      <th>href</th>\n",
       "    </tr>\n",
       "  </thead>\n",
       "  <tbody>\n",
       "    <tr>\n",
       "      <th>0</th>\n",
       "      <td>thekentstater</td>\n",
       "      <td>[{'href': 'https://www.instagram.com/p/DNx93w4...</td>\n",
       "      <td>1756135410</td>\n",
       "      <td>2025-08-25 11:23:30</td>\n",
       "      <td>https://www.instagram.com/p/DNx93w4wDVl/</td>\n",
       "    </tr>\n",
       "    <tr>\n",
       "      <th>1</th>\n",
       "      <td>twilight.memes.forever</td>\n",
       "      <td>[{'href': 'https://www.instagram.com/p/DNtWMcL...</td>\n",
       "      <td>1756097990</td>\n",
       "      <td>2025-08-25 00:59:50</td>\n",
       "      <td>https://www.instagram.com/p/DNtWMcLUDRd/</td>\n",
       "    </tr>\n",
       "    <tr>\n",
       "      <th>2</th>\n",
       "      <td>dinoche.stinky</td>\n",
       "      <td>[{'href': 'https://www.instagram.com/reel/DK-c...</td>\n",
       "      <td>1756097922</td>\n",
       "      <td>2025-08-25 00:58:42</td>\n",
       "      <td>https://www.instagram.com/reel/DK-cf6isitB/</td>\n",
       "    </tr>\n",
       "    <tr>\n",
       "      <th>3</th>\n",
       "      <td>l3x1_lars0n</td>\n",
       "      <td>[{'href': 'https://www.instagram.com/reel/DLao...</td>\n",
       "      <td>1756097892</td>\n",
       "      <td>2025-08-25 00:58:12</td>\n",
       "      <td>https://www.instagram.com/reel/DLaohRbvjIU/</td>\n",
       "    </tr>\n",
       "    <tr>\n",
       "      <th>4</th>\n",
       "      <td>microwavecorndog</td>\n",
       "      <td>[{'href': 'https://www.instagram.com/reel/DM9W...</td>\n",
       "      <td>1756097830</td>\n",
       "      <td>2025-08-25 00:57:10</td>\n",
       "      <td>https://www.instagram.com/reel/DM9W5GHOGBh/</td>\n",
       "    </tr>\n",
       "  </tbody>\n",
       "</table>\n",
       "</div>"
      ],
      "text/plain": [
       "                    title                                   string_list_data  \\\n",
       "0           thekentstater  [{'href': 'https://www.instagram.com/p/DNx93w4...   \n",
       "1  twilight.memes.forever  [{'href': 'https://www.instagram.com/p/DNtWMcL...   \n",
       "2          dinoche.stinky  [{'href': 'https://www.instagram.com/reel/DK-c...   \n",
       "3             l3x1_lars0n  [{'href': 'https://www.instagram.com/reel/DLao...   \n",
       "4        microwavecorndog  [{'href': 'https://www.instagram.com/reel/DM9W...   \n",
       "\n",
       "   Time of Like        Date of Like  \\\n",
       "0    1756135410 2025-08-25 11:23:30   \n",
       "1    1756097990 2025-08-25 00:59:50   \n",
       "2    1756097922 2025-08-25 00:58:42   \n",
       "3    1756097892 2025-08-25 00:58:12   \n",
       "4    1756097830 2025-08-25 00:57:10   \n",
       "\n",
       "                                          href  \n",
       "0     https://www.instagram.com/p/DNx93w4wDVl/  \n",
       "1     https://www.instagram.com/p/DNtWMcLUDRd/  \n",
       "2  https://www.instagram.com/reel/DK-cf6isitB/  \n",
       "3  https://www.instagram.com/reel/DLaohRbvjIU/  \n",
       "4  https://www.instagram.com/reel/DM9W5GHOGBh/  "
      ]
     },
     "execution_count": 14,
     "metadata": {},
     "output_type": "execute_result"
    }
   ],
   "source": [
    "df_tidy['href'] = [ i [0]['href'] for i in df_tidy['string_list_data'] ]\n",
    "df_tidy.head()"
   ]
  },
  {
   "cell_type": "code",
   "execution_count": 15,
   "id": "c984dbab-1b02-46c7-8252-04914ca0f356",
   "metadata": {},
   "outputs": [
    {
     "data": {
      "text/html": [
       "<div>\n",
       "<style scoped>\n",
       "    .dataframe tbody tr th:only-of-type {\n",
       "        vertical-align: middle;\n",
       "    }\n",
       "\n",
       "    .dataframe tbody tr th {\n",
       "        vertical-align: top;\n",
       "    }\n",
       "\n",
       "    .dataframe thead th {\n",
       "        text-align: right;\n",
       "    }\n",
       "</style>\n",
       "<table border=\"1\" class=\"dataframe\">\n",
       "  <thead>\n",
       "    <tr style=\"text-align: right;\">\n",
       "      <th></th>\n",
       "      <th>title</th>\n",
       "      <th>string_list_data</th>\n",
       "      <th>Time of Like</th>\n",
       "      <th>Date of Like</th>\n",
       "      <th>href</th>\n",
       "      <th>value</th>\n",
       "    </tr>\n",
       "  </thead>\n",
       "  <tbody>\n",
       "    <tr>\n",
       "      <th>0</th>\n",
       "      <td>thekentstater</td>\n",
       "      <td>[{'href': 'https://www.instagram.com/p/DNx93w4...</td>\n",
       "      <td>1756135410</td>\n",
       "      <td>2025-08-25 11:23:30</td>\n",
       "      <td>https://www.instagram.com/p/DNx93w4wDVl/</td>\n",
       "      <td>ð</td>\n",
       "    </tr>\n",
       "    <tr>\n",
       "      <th>1</th>\n",
       "      <td>twilight.memes.forever</td>\n",
       "      <td>[{'href': 'https://www.instagram.com/p/DNtWMcL...</td>\n",
       "      <td>1756097990</td>\n",
       "      <td>2025-08-25 00:59:50</td>\n",
       "      <td>https://www.instagram.com/p/DNtWMcLUDRd/</td>\n",
       "      <td>ð</td>\n",
       "    </tr>\n",
       "    <tr>\n",
       "      <th>2</th>\n",
       "      <td>dinoche.stinky</td>\n",
       "      <td>[{'href': 'https://www.instagram.com/reel/DK-c...</td>\n",
       "      <td>1756097922</td>\n",
       "      <td>2025-08-25 00:58:42</td>\n",
       "      <td>https://www.instagram.com/reel/DK-cf6isitB/</td>\n",
       "      <td>ð</td>\n",
       "    </tr>\n",
       "    <tr>\n",
       "      <th>3</th>\n",
       "      <td>l3x1_lars0n</td>\n",
       "      <td>[{'href': 'https://www.instagram.com/reel/DLao...</td>\n",
       "      <td>1756097892</td>\n",
       "      <td>2025-08-25 00:58:12</td>\n",
       "      <td>https://www.instagram.com/reel/DLaohRbvjIU/</td>\n",
       "      <td>ð</td>\n",
       "    </tr>\n",
       "    <tr>\n",
       "      <th>4</th>\n",
       "      <td>microwavecorndog</td>\n",
       "      <td>[{'href': 'https://www.instagram.com/reel/DM9W...</td>\n",
       "      <td>1756097830</td>\n",
       "      <td>2025-08-25 00:57:10</td>\n",
       "      <td>https://www.instagram.com/reel/DM9W5GHOGBh/</td>\n",
       "      <td>ð</td>\n",
       "    </tr>\n",
       "  </tbody>\n",
       "</table>\n",
       "</div>"
      ],
      "text/plain": [
       "                    title                                   string_list_data  \\\n",
       "0           thekentstater  [{'href': 'https://www.instagram.com/p/DNx93w4...   \n",
       "1  twilight.memes.forever  [{'href': 'https://www.instagram.com/p/DNtWMcL...   \n",
       "2          dinoche.stinky  [{'href': 'https://www.instagram.com/reel/DK-c...   \n",
       "3             l3x1_lars0n  [{'href': 'https://www.instagram.com/reel/DLao...   \n",
       "4        microwavecorndog  [{'href': 'https://www.instagram.com/reel/DM9W...   \n",
       "\n",
       "   Time of Like        Date of Like  \\\n",
       "0    1756135410 2025-08-25 11:23:30   \n",
       "1    1756097990 2025-08-25 00:59:50   \n",
       "2    1756097922 2025-08-25 00:58:42   \n",
       "3    1756097892 2025-08-25 00:58:12   \n",
       "4    1756097830 2025-08-25 00:57:10   \n",
       "\n",
       "                                          href value  \n",
       "0     https://www.instagram.com/p/DNx93w4wDVl/  ð  \n",
       "1     https://www.instagram.com/p/DNtWMcLUDRd/  ð  \n",
       "2  https://www.instagram.com/reel/DK-cf6isitB/  ð  \n",
       "3  https://www.instagram.com/reel/DLaohRbvjIU/  ð  \n",
       "4  https://www.instagram.com/reel/DM9W5GHOGBh/  ð  "
      ]
     },
     "execution_count": 15,
     "metadata": {},
     "output_type": "execute_result"
    }
   ],
   "source": [
    "df_tidy['value'] = [ i [0]['value'] for i in df_tidy['string_list_data'] ]\n",
    "df_tidy.head()"
   ]
  },
  {
   "cell_type": "code",
   "execution_count": 16,
   "id": "93531124-8404-4f00-b6f7-c1131d39fcd0",
   "metadata": {},
   "outputs": [
    {
     "data": {
      "text/html": [
       "<div>\n",
       "<style scoped>\n",
       "    .dataframe tbody tr th:only-of-type {\n",
       "        vertical-align: middle;\n",
       "    }\n",
       "\n",
       "    .dataframe tbody tr th {\n",
       "        vertical-align: top;\n",
       "    }\n",
       "\n",
       "    .dataframe thead th {\n",
       "        text-align: right;\n",
       "    }\n",
       "</style>\n",
       "<table border=\"1\" class=\"dataframe\">\n",
       "  <thead>\n",
       "    <tr style=\"text-align: right;\">\n",
       "      <th></th>\n",
       "      <th>title</th>\n",
       "      <th>Time of Like</th>\n",
       "      <th>Date of Like</th>\n",
       "      <th>href</th>\n",
       "      <th>value</th>\n",
       "    </tr>\n",
       "  </thead>\n",
       "  <tbody>\n",
       "    <tr>\n",
       "      <th>0</th>\n",
       "      <td>thekentstater</td>\n",
       "      <td>1756135410</td>\n",
       "      <td>2025-08-25 11:23:30</td>\n",
       "      <td>https://www.instagram.com/p/DNx93w4wDVl/</td>\n",
       "      <td>ð</td>\n",
       "    </tr>\n",
       "    <tr>\n",
       "      <th>1</th>\n",
       "      <td>twilight.memes.forever</td>\n",
       "      <td>1756097990</td>\n",
       "      <td>2025-08-25 00:59:50</td>\n",
       "      <td>https://www.instagram.com/p/DNtWMcLUDRd/</td>\n",
       "      <td>ð</td>\n",
       "    </tr>\n",
       "    <tr>\n",
       "      <th>2</th>\n",
       "      <td>dinoche.stinky</td>\n",
       "      <td>1756097922</td>\n",
       "      <td>2025-08-25 00:58:42</td>\n",
       "      <td>https://www.instagram.com/reel/DK-cf6isitB/</td>\n",
       "      <td>ð</td>\n",
       "    </tr>\n",
       "    <tr>\n",
       "      <th>3</th>\n",
       "      <td>l3x1_lars0n</td>\n",
       "      <td>1756097892</td>\n",
       "      <td>2025-08-25 00:58:12</td>\n",
       "      <td>https://www.instagram.com/reel/DLaohRbvjIU/</td>\n",
       "      <td>ð</td>\n",
       "    </tr>\n",
       "    <tr>\n",
       "      <th>4</th>\n",
       "      <td>microwavecorndog</td>\n",
       "      <td>1756097830</td>\n",
       "      <td>2025-08-25 00:57:10</td>\n",
       "      <td>https://www.instagram.com/reel/DM9W5GHOGBh/</td>\n",
       "      <td>ð</td>\n",
       "    </tr>\n",
       "    <tr>\n",
       "      <th>...</th>\n",
       "      <td>...</td>\n",
       "      <td>...</td>\n",
       "      <td>...</td>\n",
       "      <td>...</td>\n",
       "      <td>...</td>\n",
       "    </tr>\n",
       "    <tr>\n",
       "      <th>19726</th>\n",
       "      <td>sukunacurse_</td>\n",
       "      <td>1724614781</td>\n",
       "      <td>2024-08-25 15:39:41</td>\n",
       "      <td>https://www.instagram.com/reel/C76tJt9Pqh4/</td>\n",
       "      <td>ð</td>\n",
       "    </tr>\n",
       "    <tr>\n",
       "      <th>19727</th>\n",
       "      <td>simsuicide</td>\n",
       "      <td>1724614737</td>\n",
       "      <td>2024-08-25 15:38:57</td>\n",
       "      <td>https://www.instagram.com/reel/C82aXgCOySy/</td>\n",
       "      <td>ð</td>\n",
       "    </tr>\n",
       "    <tr>\n",
       "      <th>19728</th>\n",
       "      <td>reachyusuf</td>\n",
       "      <td>1724614720</td>\n",
       "      <td>2024-08-25 15:38:40</td>\n",
       "      <td>https://www.instagram.com/reel/C97OPLvI9af/</td>\n",
       "      <td>ð</td>\n",
       "    </tr>\n",
       "    <tr>\n",
       "      <th>19729</th>\n",
       "      <td>okay.kay.dee</td>\n",
       "      <td>1724613738</td>\n",
       "      <td>2024-08-25 15:22:18</td>\n",
       "      <td>https://www.instagram.com/p/C_GZoUNu1Pc/</td>\n",
       "      <td>ð</td>\n",
       "    </tr>\n",
       "    <tr>\n",
       "      <th>19730</th>\n",
       "      <td>reachabed</td>\n",
       "      <td>1724613641</td>\n",
       "      <td>2024-08-25 15:20:41</td>\n",
       "      <td>https://www.instagram.com/reel/C_GkNQfN4SR/</td>\n",
       "      <td>ð</td>\n",
       "    </tr>\n",
       "  </tbody>\n",
       "</table>\n",
       "<p>19731 rows × 5 columns</p>\n",
       "</div>"
      ],
      "text/plain": [
       "                        title  Time of Like        Date of Like  \\\n",
       "0               thekentstater    1756135410 2025-08-25 11:23:30   \n",
       "1      twilight.memes.forever    1756097990 2025-08-25 00:59:50   \n",
       "2              dinoche.stinky    1756097922 2025-08-25 00:58:42   \n",
       "3                 l3x1_lars0n    1756097892 2025-08-25 00:58:12   \n",
       "4            microwavecorndog    1756097830 2025-08-25 00:57:10   \n",
       "...                       ...           ...                 ...   \n",
       "19726            sukunacurse_    1724614781 2024-08-25 15:39:41   \n",
       "19727              simsuicide    1724614737 2024-08-25 15:38:57   \n",
       "19728              reachyusuf    1724614720 2024-08-25 15:38:40   \n",
       "19729            okay.kay.dee    1724613738 2024-08-25 15:22:18   \n",
       "19730               reachabed    1724613641 2024-08-25 15:20:41   \n",
       "\n",
       "                                              href value  \n",
       "0         https://www.instagram.com/p/DNx93w4wDVl/  ð  \n",
       "1         https://www.instagram.com/p/DNtWMcLUDRd/  ð  \n",
       "2      https://www.instagram.com/reel/DK-cf6isitB/  ð  \n",
       "3      https://www.instagram.com/reel/DLaohRbvjIU/  ð  \n",
       "4      https://www.instagram.com/reel/DM9W5GHOGBh/  ð  \n",
       "...                                            ...   ...  \n",
       "19726  https://www.instagram.com/reel/C76tJt9Pqh4/  ð  \n",
       "19727  https://www.instagram.com/reel/C82aXgCOySy/  ð  \n",
       "19728  https://www.instagram.com/reel/C97OPLvI9af/  ð  \n",
       "19729     https://www.instagram.com/p/C_GZoUNu1Pc/  ð  \n",
       "19730  https://www.instagram.com/reel/C_GkNQfN4SR/  ð  \n",
       "\n",
       "[19731 rows x 5 columns]"
      ]
     },
     "execution_count": 16,
     "metadata": {},
     "output_type": "execute_result"
    }
   ],
   "source": [
    "df_tidy.drop(columns = ['string_list_data'])"
   ]
  },
  {
   "cell_type": "markdown",
   "id": "38253198-82d0-4bf2-84e3-0045612a33f1",
   "metadata": {},
   "source": [
    "## Section 5 "
   ]
  },
  {
   "cell_type": "code",
   "execution_count": 17,
   "id": "62fd5212-7231-4ebb-a8ac-f985e35dc224",
   "metadata": {},
   "outputs": [
    {
     "data": {
      "text/html": [
       "<div>\n",
       "<style scoped>\n",
       "    .dataframe tbody tr th:only-of-type {\n",
       "        vertical-align: middle;\n",
       "    }\n",
       "\n",
       "    .dataframe tbody tr th {\n",
       "        vertical-align: top;\n",
       "    }\n",
       "\n",
       "    .dataframe thead th {\n",
       "        text-align: right;\n",
       "    }\n",
       "</style>\n",
       "<table border=\"1\" class=\"dataframe\">\n",
       "  <thead>\n",
       "    <tr style=\"text-align: right;\">\n",
       "      <th></th>\n",
       "      <th>string_list_data</th>\n",
       "      <th>Time of Like</th>\n",
       "      <th>Date of Like</th>\n",
       "      <th>href</th>\n",
       "      <th>value</th>\n",
       "    </tr>\n",
       "    <tr>\n",
       "      <th>title</th>\n",
       "      <th></th>\n",
       "      <th></th>\n",
       "      <th></th>\n",
       "      <th></th>\n",
       "      <th></th>\n",
       "    </tr>\n",
       "  </thead>\n",
       "  <tbody>\n",
       "    <tr>\n",
       "      <th>kentwired</th>\n",
       "      <td>195</td>\n",
       "      <td>195</td>\n",
       "      <td>195</td>\n",
       "      <td>195</td>\n",
       "      <td>195</td>\n",
       "    </tr>\n",
       "    <tr>\n",
       "      <th>dannyisinyourphone</th>\n",
       "      <td>183</td>\n",
       "      <td>183</td>\n",
       "      <td>183</td>\n",
       "      <td>183</td>\n",
       "      <td>183</td>\n",
       "    </tr>\n",
       "    <tr>\n",
       "      <th>destinydecktarot</th>\n",
       "      <td>135</td>\n",
       "      <td>135</td>\n",
       "      <td>135</td>\n",
       "      <td>135</td>\n",
       "      <td>135</td>\n",
       "    </tr>\n",
       "    <tr>\n",
       "      <th>danhentschel</th>\n",
       "      <td>128</td>\n",
       "      <td>128</td>\n",
       "      <td>128</td>\n",
       "      <td>128</td>\n",
       "      <td>128</td>\n",
       "    </tr>\n",
       "    <tr>\n",
       "      <th>reachyusuf</th>\n",
       "      <td>88</td>\n",
       "      <td>88</td>\n",
       "      <td>88</td>\n",
       "      <td>88</td>\n",
       "      <td>88</td>\n",
       "    </tr>\n",
       "    <tr>\n",
       "      <th>...</th>\n",
       "      <td>...</td>\n",
       "      <td>...</td>\n",
       "      <td>...</td>\n",
       "      <td>...</td>\n",
       "      <td>...</td>\n",
       "    </tr>\n",
       "    <tr>\n",
       "      <th>hopelesscore01</th>\n",
       "      <td>1</td>\n",
       "      <td>1</td>\n",
       "      <td>1</td>\n",
       "      <td>1</td>\n",
       "      <td>1</td>\n",
       "    </tr>\n",
       "    <tr>\n",
       "      <th>hopelesscore.fuelup</th>\n",
       "      <td>1</td>\n",
       "      <td>1</td>\n",
       "      <td>1</td>\n",
       "      <td>1</td>\n",
       "      <td>1</td>\n",
       "    </tr>\n",
       "    <tr>\n",
       "      <th>hopelessandthriving</th>\n",
       "      <td>1</td>\n",
       "      <td>1</td>\n",
       "      <td>1</td>\n",
       "      <td>1</td>\n",
       "      <td>1</td>\n",
       "    </tr>\n",
       "    <tr>\n",
       "      <th>hopeinherheart_</th>\n",
       "      <td>1</td>\n",
       "      <td>1</td>\n",
       "      <td>1</td>\n",
       "      <td>1</td>\n",
       "      <td>1</td>\n",
       "    </tr>\n",
       "    <tr>\n",
       "      <th>zzzzeyk</th>\n",
       "      <td>1</td>\n",
       "      <td>1</td>\n",
       "      <td>1</td>\n",
       "      <td>1</td>\n",
       "      <td>1</td>\n",
       "    </tr>\n",
       "  </tbody>\n",
       "</table>\n",
       "<p>10670 rows × 5 columns</p>\n",
       "</div>"
      ],
      "text/plain": [
       "                     string_list_data  Time of Like  Date of Like  href  value\n",
       "title                                                                         \n",
       "kentwired                         195           195           195   195    195\n",
       "dannyisinyourphone                183           183           183   183    183\n",
       "destinydecktarot                  135           135           135   135    135\n",
       "danhentschel                      128           128           128   128    128\n",
       "reachyusuf                         88            88            88    88     88\n",
       "...                               ...           ...           ...   ...    ...\n",
       "hopelesscore01                      1             1             1     1      1\n",
       "hopelesscore.fuelup                 1             1             1     1      1\n",
       "hopelessandthriving                 1             1             1     1      1\n",
       "hopeinherheart_                     1             1             1     1      1\n",
       "zzzzeyk                             1             1             1     1      1\n",
       "\n",
       "[10670 rows x 5 columns]"
      ]
     },
     "execution_count": 17,
     "metadata": {},
     "output_type": "execute_result"
    }
   ],
   "source": [
    "df_tidy.groupby('title').count().sort_values('value', ascending = False)"
   ]
  },
  {
   "cell_type": "markdown",
   "id": "a794bd62-ec11-46b3-9984-7f760121b99f",
   "metadata": {},
   "source": [
    "## Section 6"
   ]
  },
  {
   "cell_type": "markdown",
   "id": "b23c2b60-90a1-4ee0-af13-505786da96bd",
   "metadata": {},
   "source": [
    "### Hypothesis:\n",
    "\n",
    "Theoretical: I like more posts before I go to bed than during any other time of day.\n",
    "\n",
    "Statistical: H0 (null): My liked posts are evenly distributed throughout the day.\n",
    "H1: I like more posts during night hours (11pm-2am) than I do any other time of day.\n",
    "\n",
    "My statistical hypothesis can be tested by looking at the data in the json files. My theoretical hypothesis is more abstract because I do not specify a timeframe.\n",
    "\n",
    "This is my hypothesis because as observed in the first 5 rows of the DataFrame in Section 4 (Date of Like column), 4 out of 5 of my liked posts were liked during the 0th hour (12am). "
   ]
  },
  {
   "cell_type": "markdown",
   "id": "f85098ed-a302-424c-a0d6-6ac27673faf3",
   "metadata": {},
   "source": [
    "## Section 7"
   ]
  },
  {
   "cell_type": "markdown",
   "id": "bdebb2e8-2b80-468e-aeda-0ae5c7aa851f",
   "metadata": {},
   "source": [
    "To help me test my hypothesis, I am going to use the saved posts json file. I think this json file contains posts that I have added to my saved posts on Instagram, as well as the time I saved them. Saved posts are used to help you find posts easier on Instagram. I usually save posts that I really like so I think this will help me to test my hypothesis."
   ]
  },
  {
   "cell_type": "markdown",
   "id": "27126bce-ef53-421d-bcb8-c9f3f08d006e",
   "metadata": {},
   "source": [
    "## Section 8"
   ]
  },
  {
   "cell_type": "markdown",
   "id": "811ace97-afba-4ca8-9cf9-66bfedf1494c",
   "metadata": {},
   "source": [
    "Open and load json file"
   ]
  },
  {
   "cell_type": "code",
   "execution_count": 18,
   "id": "02808e95-ece8-4b10-93b4-8c643bd701b2",
   "metadata": {},
   "outputs": [],
   "source": [
    "path = r\"/Users/clarencerodgers/Downloads/instagram-silly_go0fy-2025-08-25-bAFcXbZj/your_instagram_activity/saved/saved_posts.json\"\n",
    "with open(path) as s:\n",
    "    dict = json.load(s)"
   ]
  },
  {
   "cell_type": "markdown",
   "id": "23b3acdb-fa12-4230-bf4c-0cbfd81dc914",
   "metadata": {},
   "source": [
    "## Section 9"
   ]
  },
  {
   "cell_type": "code",
   "execution_count": 19,
   "id": "c611d83b-3ba6-4af1-a14f-f466835a98c1",
   "metadata": {},
   "outputs": [
    {
     "data": {
      "text/html": [
       "<div>\n",
       "<style scoped>\n",
       "    .dataframe tbody tr th:only-of-type {\n",
       "        vertical-align: middle;\n",
       "    }\n",
       "\n",
       "    .dataframe tbody tr th {\n",
       "        vertical-align: top;\n",
       "    }\n",
       "\n",
       "    .dataframe thead th {\n",
       "        text-align: right;\n",
       "    }\n",
       "</style>\n",
       "<table border=\"1\" class=\"dataframe\">\n",
       "  <thead>\n",
       "    <tr style=\"text-align: right;\">\n",
       "      <th></th>\n",
       "      <th>saved_saved_media</th>\n",
       "    </tr>\n",
       "  </thead>\n",
       "  <tbody>\n",
       "    <tr>\n",
       "      <th>0</th>\n",
       "      <td>{'title': 'microwavecorndog', 'string_map_data...</td>\n",
       "    </tr>\n",
       "    <tr>\n",
       "      <th>1</th>\n",
       "      <td>{'title': 'bakedrizzledust', 'string_map_data'...</td>\n",
       "    </tr>\n",
       "    <tr>\n",
       "      <th>2</th>\n",
       "      <td>{'title': 'meme_hub1112', 'string_map_data': {...</td>\n",
       "    </tr>\n",
       "    <tr>\n",
       "      <th>3</th>\n",
       "      <td>{'title': 'typeoflarry', 'string_map_data': {'...</td>\n",
       "    </tr>\n",
       "    <tr>\n",
       "      <th>4</th>\n",
       "      <td>{'title': 'thenokidscollective', 'string_map_d...</td>\n",
       "    </tr>\n",
       "  </tbody>\n",
       "</table>\n",
       "</div>"
      ],
      "text/plain": [
       "                                   saved_saved_media\n",
       "0  {'title': 'microwavecorndog', 'string_map_data...\n",
       "1  {'title': 'bakedrizzledust', 'string_map_data'...\n",
       "2  {'title': 'meme_hub1112', 'string_map_data': {...\n",
       "3  {'title': 'typeoflarry', 'string_map_data': {'...\n",
       "4  {'title': 'thenokidscollective', 'string_map_d..."
      ]
     },
     "execution_count": 19,
     "metadata": {},
     "output_type": "execute_result"
    }
   ],
   "source": [
    "df = pd.DataFrame(dict)\n",
    "df.head()"
   ]
  },
  {
   "cell_type": "markdown",
   "id": "3329a292-bc0e-4dc2-aa64-3fac89c9a88a",
   "metadata": {},
   "source": [
    "In order to test my hypothesis, I am going to try to tidy up the table so I can see the date and time of the saved post."
   ]
  },
  {
   "cell_type": "code",
   "execution_count": 20,
   "id": "0d5d9898-1f6c-4b07-bf61-b47f33239a64",
   "metadata": {},
   "outputs": [
    {
     "data": {
      "text/plain": [
       "dict_keys(['saved_saved_media'])"
      ]
     },
     "execution_count": 20,
     "metadata": {},
     "output_type": "execute_result"
    }
   ],
   "source": [
    "dict.keys()"
   ]
  },
  {
   "cell_type": "code",
   "execution_count": 21,
   "id": "e070cca9-86c9-4326-bf9b-e6eb607654f1",
   "metadata": {},
   "outputs": [
    {
     "data": {
      "text/html": [
       "<div>\n",
       "<style scoped>\n",
       "    .dataframe tbody tr th:only-of-type {\n",
       "        vertical-align: middle;\n",
       "    }\n",
       "\n",
       "    .dataframe tbody tr th {\n",
       "        vertical-align: top;\n",
       "    }\n",
       "\n",
       "    .dataframe thead th {\n",
       "        text-align: right;\n",
       "    }\n",
       "</style>\n",
       "<table border=\"1\" class=\"dataframe\">\n",
       "  <thead>\n",
       "    <tr style=\"text-align: right;\">\n",
       "      <th></th>\n",
       "      <th>title</th>\n",
       "      <th>string_map_data</th>\n",
       "    </tr>\n",
       "  </thead>\n",
       "  <tbody>\n",
       "    <tr>\n",
       "      <th>0</th>\n",
       "      <td>microwavecorndog</td>\n",
       "      <td>{'Saved on': {'href': 'https://www.instagram.c...</td>\n",
       "    </tr>\n",
       "    <tr>\n",
       "      <th>1</th>\n",
       "      <td>bakedrizzledust</td>\n",
       "      <td>{'Saved on': {'href': 'https://www.instagram.c...</td>\n",
       "    </tr>\n",
       "    <tr>\n",
       "      <th>2</th>\n",
       "      <td>meme_hub1112</td>\n",
       "      <td>{'Saved on': {'href': 'https://www.instagram.c...</td>\n",
       "    </tr>\n",
       "    <tr>\n",
       "      <th>3</th>\n",
       "      <td>typeoflarry</td>\n",
       "      <td>{'Saved on': {'href': 'https://www.instagram.c...</td>\n",
       "    </tr>\n",
       "    <tr>\n",
       "      <th>4</th>\n",
       "      <td>thenokidscollective</td>\n",
       "      <td>{'Saved on': {'href': 'https://www.instagram.c...</td>\n",
       "    </tr>\n",
       "  </tbody>\n",
       "</table>\n",
       "</div>"
      ],
      "text/plain": [
       "                 title                                    string_map_data\n",
       "0     microwavecorndog  {'Saved on': {'href': 'https://www.instagram.c...\n",
       "1      bakedrizzledust  {'Saved on': {'href': 'https://www.instagram.c...\n",
       "2         meme_hub1112  {'Saved on': {'href': 'https://www.instagram.c...\n",
       "3          typeoflarry  {'Saved on': {'href': 'https://www.instagram.c...\n",
       "4  thenokidscollective  {'Saved on': {'href': 'https://www.instagram.c..."
      ]
     },
     "execution_count": 21,
     "metadata": {},
     "output_type": "execute_result"
    }
   ],
   "source": [
    "df_tidy = pd.DataFrame(dict['saved_saved_media'])\n",
    "df_tidy.head()"
   ]
  },
  {
   "cell_type": "markdown",
   "id": "c54975e4-957a-4036-b96a-0ef7120a9b59",
   "metadata": {},
   "source": [
    "I am using .iloc[] to make it so that the timestamp will have its own column in the table"
   ]
  },
  {
   "cell_type": "code",
   "execution_count": 22,
   "id": "15abe863-886b-450b-a992-4d7e054584e7",
   "metadata": {},
   "outputs": [
    {
     "data": {
      "text/plain": [
       "{'Saved on': {'href': 'https://www.instagram.com/reel/DM9W5GHOGBh/',\n",
       "  'timestamp': 1756097843}}"
      ]
     },
     "execution_count": 22,
     "metadata": {},
     "output_type": "execute_result"
    }
   ],
   "source": [
    "df_tidy['string_map_data'].iloc[0]"
   ]
  },
  {
   "cell_type": "code",
   "execution_count": 23,
   "id": "6e5efe6a-433d-4027-97a6-590f1ca90ea7",
   "metadata": {},
   "outputs": [
    {
     "data": {
      "text/plain": [
       "dict"
      ]
     },
     "execution_count": 23,
     "metadata": {},
     "output_type": "execute_result"
    }
   ],
   "source": [
    "type(df_tidy['string_map_data'].iloc[0])"
   ]
  },
  {
   "cell_type": "code",
   "execution_count": 24,
   "id": "a41834e6-1919-4cf5-b1ec-dbed182bfbf4",
   "metadata": {},
   "outputs": [
    {
     "data": {
      "text/plain": [
       "1"
      ]
     },
     "execution_count": 24,
     "metadata": {},
     "output_type": "execute_result"
    }
   ],
   "source": [
    "len(df_tidy['string_map_data'].iloc[0])"
   ]
  },
  {
   "cell_type": "code",
   "execution_count": 26,
   "id": "8eef3408-5228-4282-ad09-eb5bc6e7b39d",
   "metadata": {},
   "outputs": [
    {
     "data": {
      "text/plain": [
       "1756097843"
      ]
     },
     "execution_count": 26,
     "metadata": {},
     "output_type": "execute_result"
    }
   ],
   "source": [
    "df_tidy['string_map_data'].iloc[0]['Saved on']['timestamp']"
   ]
  },
  {
   "cell_type": "code",
   "execution_count": 32,
   "id": "66fe5e67-87c1-42ef-885b-9710f08a5b22",
   "metadata": {},
   "outputs": [
    {
     "data": {
      "text/html": [
       "<div>\n",
       "<style scoped>\n",
       "    .dataframe tbody tr th:only-of-type {\n",
       "        vertical-align: middle;\n",
       "    }\n",
       "\n",
       "    .dataframe tbody tr th {\n",
       "        vertical-align: top;\n",
       "    }\n",
       "\n",
       "    .dataframe thead th {\n",
       "        text-align: right;\n",
       "    }\n",
       "</style>\n",
       "<table border=\"1\" class=\"dataframe\">\n",
       "  <thead>\n",
       "    <tr style=\"text-align: right;\">\n",
       "      <th></th>\n",
       "      <th>title</th>\n",
       "      <th>string_map_data</th>\n",
       "      <th>Time of Like</th>\n",
       "      <th>Time of Save</th>\n",
       "    </tr>\n",
       "  </thead>\n",
       "  <tbody>\n",
       "    <tr>\n",
       "      <th>0</th>\n",
       "      <td>microwavecorndog</td>\n",
       "      <td>{'Saved on': {'href': 'https://www.instagram.c...</td>\n",
       "      <td>1756097843</td>\n",
       "      <td>1756097843</td>\n",
       "    </tr>\n",
       "    <tr>\n",
       "      <th>1</th>\n",
       "      <td>bakedrizzledust</td>\n",
       "      <td>{'Saved on': {'href': 'https://www.instagram.c...</td>\n",
       "      <td>1756065747</td>\n",
       "      <td>1756065747</td>\n",
       "    </tr>\n",
       "    <tr>\n",
       "      <th>2</th>\n",
       "      <td>meme_hub1112</td>\n",
       "      <td>{'Saved on': {'href': 'https://www.instagram.c...</td>\n",
       "      <td>1755985051</td>\n",
       "      <td>1755985051</td>\n",
       "    </tr>\n",
       "    <tr>\n",
       "      <th>3</th>\n",
       "      <td>typeoflarry</td>\n",
       "      <td>{'Saved on': {'href': 'https://www.instagram.c...</td>\n",
       "      <td>1755984816</td>\n",
       "      <td>1755984816</td>\n",
       "    </tr>\n",
       "    <tr>\n",
       "      <th>4</th>\n",
       "      <td>thenokidscollective</td>\n",
       "      <td>{'Saved on': {'href': 'https://www.instagram.c...</td>\n",
       "      <td>1755984640</td>\n",
       "      <td>1755984640</td>\n",
       "    </tr>\n",
       "  </tbody>\n",
       "</table>\n",
       "</div>"
      ],
      "text/plain": [
       "                 title                                    string_map_data  \\\n",
       "0     microwavecorndog  {'Saved on': {'href': 'https://www.instagram.c...   \n",
       "1      bakedrizzledust  {'Saved on': {'href': 'https://www.instagram.c...   \n",
       "2         meme_hub1112  {'Saved on': {'href': 'https://www.instagram.c...   \n",
       "3          typeoflarry  {'Saved on': {'href': 'https://www.instagram.c...   \n",
       "4  thenokidscollective  {'Saved on': {'href': 'https://www.instagram.c...   \n",
       "\n",
       "   Time of Like  Time of Save  \n",
       "0    1756097843    1756097843  \n",
       "1    1756065747    1756065747  \n",
       "2    1755985051    1755985051  \n",
       "3    1755984816    1755984816  \n",
       "4    1755984640    1755984640  "
      ]
     },
     "execution_count": 32,
     "metadata": {},
     "output_type": "execute_result"
    }
   ],
   "source": [
    "df_tidy['Time of Save'] = [i['Saved on']['timestamp'] for i in df_tidy['string_map_data']]\n",
    "\n",
    "df_tidy.head()"
   ]
  },
  {
   "cell_type": "markdown",
   "id": "c20ba532-9a83-4d3b-afca-9c14b05a1acf",
   "metadata": {},
   "source": [
    "(I accidentally named the column Time of Like the first time instead of Time of Save) "
   ]
  },
  {
   "cell_type": "markdown",
   "id": "3f892944-5879-4d71-9014-e5c2b464c485",
   "metadata": {},
   "source": [
    "I am now going to import datetime so that I can find the exact date and time of the save"
   ]
  },
  {
   "cell_type": "code",
   "execution_count": 33,
   "id": "583a0d41-60e6-44b2-9182-38602a9960c2",
   "metadata": {},
   "outputs": [],
   "source": [
    "from datetime import datetime\n",
    "df_tidy['Date of Save'] = [datetime.fromtimestamp(i['Saved on']['timestamp']) for i in df_tidy['string_map_data']]"
   ]
  },
  {
   "cell_type": "code",
   "execution_count": 34,
   "id": "27cdbaa8-99b1-4a1b-970f-d39d43f5005a",
   "metadata": {},
   "outputs": [
    {
     "data": {
      "text/html": [
       "<div>\n",
       "<style scoped>\n",
       "    .dataframe tbody tr th:only-of-type {\n",
       "        vertical-align: middle;\n",
       "    }\n",
       "\n",
       "    .dataframe tbody tr th {\n",
       "        vertical-align: top;\n",
       "    }\n",
       "\n",
       "    .dataframe thead th {\n",
       "        text-align: right;\n",
       "    }\n",
       "</style>\n",
       "<table border=\"1\" class=\"dataframe\">\n",
       "  <thead>\n",
       "    <tr style=\"text-align: right;\">\n",
       "      <th></th>\n",
       "      <th>title</th>\n",
       "      <th>string_map_data</th>\n",
       "      <th>Time of Like</th>\n",
       "      <th>Time of Save</th>\n",
       "      <th>Date of Save</th>\n",
       "    </tr>\n",
       "  </thead>\n",
       "  <tbody>\n",
       "    <tr>\n",
       "      <th>0</th>\n",
       "      <td>microwavecorndog</td>\n",
       "      <td>{'Saved on': {'href': 'https://www.instagram.c...</td>\n",
       "      <td>1756097843</td>\n",
       "      <td>1756097843</td>\n",
       "      <td>2025-08-25 00:57:23</td>\n",
       "    </tr>\n",
       "    <tr>\n",
       "      <th>1</th>\n",
       "      <td>bakedrizzledust</td>\n",
       "      <td>{'Saved on': {'href': 'https://www.instagram.c...</td>\n",
       "      <td>1756065747</td>\n",
       "      <td>1756065747</td>\n",
       "      <td>2025-08-24 16:02:27</td>\n",
       "    </tr>\n",
       "    <tr>\n",
       "      <th>2</th>\n",
       "      <td>meme_hub1112</td>\n",
       "      <td>{'Saved on': {'href': 'https://www.instagram.c...</td>\n",
       "      <td>1755985051</td>\n",
       "      <td>1755985051</td>\n",
       "      <td>2025-08-23 17:37:31</td>\n",
       "    </tr>\n",
       "    <tr>\n",
       "      <th>3</th>\n",
       "      <td>typeoflarry</td>\n",
       "      <td>{'Saved on': {'href': 'https://www.instagram.c...</td>\n",
       "      <td>1755984816</td>\n",
       "      <td>1755984816</td>\n",
       "      <td>2025-08-23 17:33:36</td>\n",
       "    </tr>\n",
       "    <tr>\n",
       "      <th>4</th>\n",
       "      <td>thenokidscollective</td>\n",
       "      <td>{'Saved on': {'href': 'https://www.instagram.c...</td>\n",
       "      <td>1755984640</td>\n",
       "      <td>1755984640</td>\n",
       "      <td>2025-08-23 17:30:40</td>\n",
       "    </tr>\n",
       "  </tbody>\n",
       "</table>\n",
       "</div>"
      ],
      "text/plain": [
       "                 title                                    string_map_data  \\\n",
       "0     microwavecorndog  {'Saved on': {'href': 'https://www.instagram.c...   \n",
       "1      bakedrizzledust  {'Saved on': {'href': 'https://www.instagram.c...   \n",
       "2         meme_hub1112  {'Saved on': {'href': 'https://www.instagram.c...   \n",
       "3          typeoflarry  {'Saved on': {'href': 'https://www.instagram.c...   \n",
       "4  thenokidscollective  {'Saved on': {'href': 'https://www.instagram.c...   \n",
       "\n",
       "   Time of Like  Time of Save        Date of Save  \n",
       "0    1756097843    1756097843 2025-08-25 00:57:23  \n",
       "1    1756065747    1756065747 2025-08-24 16:02:27  \n",
       "2    1755985051    1755985051 2025-08-23 17:37:31  \n",
       "3    1755984816    1755984816 2025-08-23 17:33:36  \n",
       "4    1755984640    1755984640 2025-08-23 17:30:40  "
      ]
     },
     "execution_count": 34,
     "metadata": {},
     "output_type": "execute_result"
    }
   ],
   "source": [
    "df_tidy.head()"
   ]
  },
  {
   "cell_type": "markdown",
   "id": "e92ebd0c-02fe-47e6-8278-11c33341dfc6",
   "metadata": {},
   "source": [
    "Now that I can see the date and times of the saved posts, I am going to try to tidy up the table just a bit more to make it more organized"
   ]
  },
  {
   "cell_type": "code",
   "execution_count": 35,
   "id": "742573d4-0b66-4410-8e85-24e56ca92287",
   "metadata": {},
   "outputs": [
    {
     "data": {
      "text/html": [
       "<div>\n",
       "<style scoped>\n",
       "    .dataframe tbody tr th:only-of-type {\n",
       "        vertical-align: middle;\n",
       "    }\n",
       "\n",
       "    .dataframe tbody tr th {\n",
       "        vertical-align: top;\n",
       "    }\n",
       "\n",
       "    .dataframe thead th {\n",
       "        text-align: right;\n",
       "    }\n",
       "</style>\n",
       "<table border=\"1\" class=\"dataframe\">\n",
       "  <thead>\n",
       "    <tr style=\"text-align: right;\">\n",
       "      <th></th>\n",
       "      <th>title</th>\n",
       "      <th>string_map_data</th>\n",
       "      <th>Time of Like</th>\n",
       "      <th>Time of Save</th>\n",
       "      <th>Date of Save</th>\n",
       "      <th>href</th>\n",
       "    </tr>\n",
       "  </thead>\n",
       "  <tbody>\n",
       "    <tr>\n",
       "      <th>0</th>\n",
       "      <td>microwavecorndog</td>\n",
       "      <td>{'Saved on': {'href': 'https://www.instagram.c...</td>\n",
       "      <td>1756097843</td>\n",
       "      <td>1756097843</td>\n",
       "      <td>2025-08-25 00:57:23</td>\n",
       "      <td>https://www.instagram.com/reel/DM9W5GHOGBh/</td>\n",
       "    </tr>\n",
       "    <tr>\n",
       "      <th>1</th>\n",
       "      <td>bakedrizzledust</td>\n",
       "      <td>{'Saved on': {'href': 'https://www.instagram.c...</td>\n",
       "      <td>1756065747</td>\n",
       "      <td>1756065747</td>\n",
       "      <td>2025-08-24 16:02:27</td>\n",
       "      <td>https://www.instagram.com/reel/DNWFK70vQJf/</td>\n",
       "    </tr>\n",
       "    <tr>\n",
       "      <th>2</th>\n",
       "      <td>meme_hub1112</td>\n",
       "      <td>{'Saved on': {'href': 'https://www.instagram.c...</td>\n",
       "      <td>1755985051</td>\n",
       "      <td>1755985051</td>\n",
       "      <td>2025-08-23 17:37:31</td>\n",
       "      <td>https://www.instagram.com/reel/DNbMrwXzjsz/</td>\n",
       "    </tr>\n",
       "    <tr>\n",
       "      <th>3</th>\n",
       "      <td>typeoflarry</td>\n",
       "      <td>{'Saved on': {'href': 'https://www.instagram.c...</td>\n",
       "      <td>1755984816</td>\n",
       "      <td>1755984816</td>\n",
       "      <td>2025-08-23 17:33:36</td>\n",
       "      <td>https://www.instagram.com/reel/DMI9ABJMI-z/</td>\n",
       "    </tr>\n",
       "    <tr>\n",
       "      <th>4</th>\n",
       "      <td>thenokidscollective</td>\n",
       "      <td>{'Saved on': {'href': 'https://www.instagram.c...</td>\n",
       "      <td>1755984640</td>\n",
       "      <td>1755984640</td>\n",
       "      <td>2025-08-23 17:30:40</td>\n",
       "      <td>https://www.instagram.com/reel/DNgw-8qTlxT/</td>\n",
       "    </tr>\n",
       "  </tbody>\n",
       "</table>\n",
       "</div>"
      ],
      "text/plain": [
       "                 title                                    string_map_data  \\\n",
       "0     microwavecorndog  {'Saved on': {'href': 'https://www.instagram.c...   \n",
       "1      bakedrizzledust  {'Saved on': {'href': 'https://www.instagram.c...   \n",
       "2         meme_hub1112  {'Saved on': {'href': 'https://www.instagram.c...   \n",
       "3          typeoflarry  {'Saved on': {'href': 'https://www.instagram.c...   \n",
       "4  thenokidscollective  {'Saved on': {'href': 'https://www.instagram.c...   \n",
       "\n",
       "   Time of Like  Time of Save        Date of Save  \\\n",
       "0    1756097843    1756097843 2025-08-25 00:57:23   \n",
       "1    1756065747    1756065747 2025-08-24 16:02:27   \n",
       "2    1755985051    1755985051 2025-08-23 17:37:31   \n",
       "3    1755984816    1755984816 2025-08-23 17:33:36   \n",
       "4    1755984640    1755984640 2025-08-23 17:30:40   \n",
       "\n",
       "                                          href  \n",
       "0  https://www.instagram.com/reel/DM9W5GHOGBh/  \n",
       "1  https://www.instagram.com/reel/DNWFK70vQJf/  \n",
       "2  https://www.instagram.com/reel/DNbMrwXzjsz/  \n",
       "3  https://www.instagram.com/reel/DMI9ABJMI-z/  \n",
       "4  https://www.instagram.com/reel/DNgw-8qTlxT/  "
      ]
     },
     "execution_count": 35,
     "metadata": {},
     "output_type": "execute_result"
    }
   ],
   "source": [
    "df_tidy['href'] = [i ['Saved on']['href'] for i in df_tidy['string_map_data']]\n",
    "df_tidy.head()"
   ]
  },
  {
   "cell_type": "markdown",
   "id": "5a378a7b-da9e-4390-b7d5-b43b2a1e3ac4",
   "metadata": {},
   "source": [
    "Now that the data is more organized, I am going to display the first 10 rows of the data. "
   ]
  },
  {
   "cell_type": "code",
   "execution_count": 39,
   "id": "9b14ec1e-f903-4173-8d94-1475b8d32613",
   "metadata": {},
   "outputs": [
    {
     "data": {
      "text/html": [
       "<div>\n",
       "<style scoped>\n",
       "    .dataframe tbody tr th:only-of-type {\n",
       "        vertical-align: middle;\n",
       "    }\n",
       "\n",
       "    .dataframe tbody tr th {\n",
       "        vertical-align: top;\n",
       "    }\n",
       "\n",
       "    .dataframe thead th {\n",
       "        text-align: right;\n",
       "    }\n",
       "</style>\n",
       "<table border=\"1\" class=\"dataframe\">\n",
       "  <thead>\n",
       "    <tr style=\"text-align: right;\">\n",
       "      <th></th>\n",
       "      <th>title</th>\n",
       "      <th>string_map_data</th>\n",
       "      <th>Time of Like</th>\n",
       "      <th>Time of Save</th>\n",
       "      <th>Date of Save</th>\n",
       "      <th>href</th>\n",
       "    </tr>\n",
       "  </thead>\n",
       "  <tbody>\n",
       "    <tr>\n",
       "      <th>0</th>\n",
       "      <td>microwavecorndog</td>\n",
       "      <td>{'Saved on': {'href': 'https://www.instagram.c...</td>\n",
       "      <td>1756097843</td>\n",
       "      <td>1756097843</td>\n",
       "      <td>2025-08-25 00:57:23</td>\n",
       "      <td>https://www.instagram.com/reel/DM9W5GHOGBh/</td>\n",
       "    </tr>\n",
       "    <tr>\n",
       "      <th>1</th>\n",
       "      <td>bakedrizzledust</td>\n",
       "      <td>{'Saved on': {'href': 'https://www.instagram.c...</td>\n",
       "      <td>1756065747</td>\n",
       "      <td>1756065747</td>\n",
       "      <td>2025-08-24 16:02:27</td>\n",
       "      <td>https://www.instagram.com/reel/DNWFK70vQJf/</td>\n",
       "    </tr>\n",
       "    <tr>\n",
       "      <th>2</th>\n",
       "      <td>meme_hub1112</td>\n",
       "      <td>{'Saved on': {'href': 'https://www.instagram.c...</td>\n",
       "      <td>1755985051</td>\n",
       "      <td>1755985051</td>\n",
       "      <td>2025-08-23 17:37:31</td>\n",
       "      <td>https://www.instagram.com/reel/DNbMrwXzjsz/</td>\n",
       "    </tr>\n",
       "    <tr>\n",
       "      <th>3</th>\n",
       "      <td>typeoflarry</td>\n",
       "      <td>{'Saved on': {'href': 'https://www.instagram.c...</td>\n",
       "      <td>1755984816</td>\n",
       "      <td>1755984816</td>\n",
       "      <td>2025-08-23 17:33:36</td>\n",
       "      <td>https://www.instagram.com/reel/DMI9ABJMI-z/</td>\n",
       "    </tr>\n",
       "    <tr>\n",
       "      <th>4</th>\n",
       "      <td>thenokidscollective</td>\n",
       "      <td>{'Saved on': {'href': 'https://www.instagram.c...</td>\n",
       "      <td>1755984640</td>\n",
       "      <td>1755984640</td>\n",
       "      <td>2025-08-23 17:30:40</td>\n",
       "      <td>https://www.instagram.com/reel/DNgw-8qTlxT/</td>\n",
       "    </tr>\n",
       "    <tr>\n",
       "      <th>5</th>\n",
       "      <td>lolpokemonedits</td>\n",
       "      <td>{'Saved on': {'href': 'https://www.instagram.c...</td>\n",
       "      <td>1755984133</td>\n",
       "      <td>1755984133</td>\n",
       "      <td>2025-08-23 17:22:13</td>\n",
       "      <td>https://www.instagram.com/reel/DM4NarQzlSn/</td>\n",
       "    </tr>\n",
       "    <tr>\n",
       "      <th>6</th>\n",
       "      <td>illeatpikachu</td>\n",
       "      <td>{'Saved on': {'href': 'https://www.instagram.c...</td>\n",
       "      <td>1755984048</td>\n",
       "      <td>1755984048</td>\n",
       "      <td>2025-08-23 17:20:48</td>\n",
       "      <td>https://www.instagram.com/reel/DMekL6qy_Gj/</td>\n",
       "    </tr>\n",
       "    <tr>\n",
       "      <th>7</th>\n",
       "      <td>nikarrr_hats</td>\n",
       "      <td>{'Saved on': {'href': 'https://www.instagram.c...</td>\n",
       "      <td>1755983324</td>\n",
       "      <td>1755983324</td>\n",
       "      <td>2025-08-23 17:08:44</td>\n",
       "      <td>https://www.instagram.com/reel/DNPAfzGTf9s/</td>\n",
       "    </tr>\n",
       "    <tr>\n",
       "      <th>8</th>\n",
       "      <td>disrvspec</td>\n",
       "      <td>{'Saved on': {'href': 'https://www.instagram.c...</td>\n",
       "      <td>1755982997</td>\n",
       "      <td>1755982997</td>\n",
       "      <td>2025-08-23 17:03:17</td>\n",
       "      <td>https://www.instagram.com/reel/DNtSeSt4rnT/</td>\n",
       "    </tr>\n",
       "    <tr>\n",
       "      <th>9</th>\n",
       "      <td>n2mem__</td>\n",
       "      <td>{'Saved on': {'href': 'https://www.instagram.c...</td>\n",
       "      <td>1755982741</td>\n",
       "      <td>1755982741</td>\n",
       "      <td>2025-08-23 16:59:01</td>\n",
       "      <td>https://www.instagram.com/reel/DNU3rS0IH2q/</td>\n",
       "    </tr>\n",
       "  </tbody>\n",
       "</table>\n",
       "</div>"
      ],
      "text/plain": [
       "                 title                                    string_map_data  \\\n",
       "0     microwavecorndog  {'Saved on': {'href': 'https://www.instagram.c...   \n",
       "1      bakedrizzledust  {'Saved on': {'href': 'https://www.instagram.c...   \n",
       "2         meme_hub1112  {'Saved on': {'href': 'https://www.instagram.c...   \n",
       "3          typeoflarry  {'Saved on': {'href': 'https://www.instagram.c...   \n",
       "4  thenokidscollective  {'Saved on': {'href': 'https://www.instagram.c...   \n",
       "5      lolpokemonedits  {'Saved on': {'href': 'https://www.instagram.c...   \n",
       "6        illeatpikachu  {'Saved on': {'href': 'https://www.instagram.c...   \n",
       "7         nikarrr_hats  {'Saved on': {'href': 'https://www.instagram.c...   \n",
       "8            disrvspec  {'Saved on': {'href': 'https://www.instagram.c...   \n",
       "9              n2mem__  {'Saved on': {'href': 'https://www.instagram.c...   \n",
       "\n",
       "   Time of Like  Time of Save        Date of Save  \\\n",
       "0    1756097843    1756097843 2025-08-25 00:57:23   \n",
       "1    1756065747    1756065747 2025-08-24 16:02:27   \n",
       "2    1755985051    1755985051 2025-08-23 17:37:31   \n",
       "3    1755984816    1755984816 2025-08-23 17:33:36   \n",
       "4    1755984640    1755984640 2025-08-23 17:30:40   \n",
       "5    1755984133    1755984133 2025-08-23 17:22:13   \n",
       "6    1755984048    1755984048 2025-08-23 17:20:48   \n",
       "7    1755983324    1755983324 2025-08-23 17:08:44   \n",
       "8    1755982997    1755982997 2025-08-23 17:03:17   \n",
       "9    1755982741    1755982741 2025-08-23 16:59:01   \n",
       "\n",
       "                                          href  \n",
       "0  https://www.instagram.com/reel/DM9W5GHOGBh/  \n",
       "1  https://www.instagram.com/reel/DNWFK70vQJf/  \n",
       "2  https://www.instagram.com/reel/DNbMrwXzjsz/  \n",
       "3  https://www.instagram.com/reel/DMI9ABJMI-z/  \n",
       "4  https://www.instagram.com/reel/DNgw-8qTlxT/  \n",
       "5  https://www.instagram.com/reel/DM4NarQzlSn/  \n",
       "6  https://www.instagram.com/reel/DMekL6qy_Gj/  \n",
       "7  https://www.instagram.com/reel/DNPAfzGTf9s/  \n",
       "8  https://www.instagram.com/reel/DNtSeSt4rnT/  \n",
       "9  https://www.instagram.com/reel/DNU3rS0IH2q/  "
      ]
     },
     "execution_count": 39,
     "metadata": {},
     "output_type": "execute_result"
    }
   ],
   "source": [
    "df_tidy.head(10)"
   ]
  },
  {
   "cell_type": "markdown",
   "id": "57eec3cd-a29d-4527-a5ad-cabd8da49754",
   "metadata": {},
   "source": [
    "To help summarize the data of saved posts, I am going to use groupby() and count()"
   ]
  },
  {
   "cell_type": "code",
   "execution_count": 43,
   "id": "e2e7429c-6d68-4740-92b5-519cabfd70f2",
   "metadata": {},
   "outputs": [
    {
     "data": {
      "text/html": [
       "<div>\n",
       "<style scoped>\n",
       "    .dataframe tbody tr th:only-of-type {\n",
       "        vertical-align: middle;\n",
       "    }\n",
       "\n",
       "    .dataframe tbody tr th {\n",
       "        vertical-align: top;\n",
       "    }\n",
       "\n",
       "    .dataframe thead th {\n",
       "        text-align: right;\n",
       "    }\n",
       "</style>\n",
       "<table border=\"1\" class=\"dataframe\">\n",
       "  <thead>\n",
       "    <tr style=\"text-align: right;\">\n",
       "      <th></th>\n",
       "      <th>string_map_data</th>\n",
       "      <th>Time of Like</th>\n",
       "      <th>Time of Save</th>\n",
       "      <th>Date of Save</th>\n",
       "      <th>href</th>\n",
       "    </tr>\n",
       "    <tr>\n",
       "      <th>title</th>\n",
       "      <th></th>\n",
       "      <th></th>\n",
       "      <th></th>\n",
       "      <th></th>\n",
       "      <th></th>\n",
       "    </tr>\n",
       "  </thead>\n",
       "  <tbody>\n",
       "    <tr>\n",
       "      <th>barbequebaconburgereveryday</th>\n",
       "      <td>6</td>\n",
       "      <td>6</td>\n",
       "      <td>6</td>\n",
       "      <td>6</td>\n",
       "      <td>6</td>\n",
       "    </tr>\n",
       "    <tr>\n",
       "      <th>amitkumar_11ak</th>\n",
       "      <td>5</td>\n",
       "      <td>5</td>\n",
       "      <td>5</td>\n",
       "      <td>5</td>\n",
       "      <td>5</td>\n",
       "    </tr>\n",
       "    <tr>\n",
       "      <th>noahwaybabe</th>\n",
       "      <td>5</td>\n",
       "      <td>5</td>\n",
       "      <td>5</td>\n",
       "      <td>5</td>\n",
       "      <td>5</td>\n",
       "    </tr>\n",
       "    <tr>\n",
       "      <th>meas.says</th>\n",
       "      <td>5</td>\n",
       "      <td>5</td>\n",
       "      <td>5</td>\n",
       "      <td>5</td>\n",
       "      <td>5</td>\n",
       "    </tr>\n",
       "    <tr>\n",
       "      <th>dannyisinyourphone</th>\n",
       "      <td>5</td>\n",
       "      <td>5</td>\n",
       "      <td>5</td>\n",
       "      <td>5</td>\n",
       "      <td>5</td>\n",
       "    </tr>\n",
       "    <tr>\n",
       "      <th>...</th>\n",
       "      <td>...</td>\n",
       "      <td>...</td>\n",
       "      <td>...</td>\n",
       "      <td>...</td>\n",
       "      <td>...</td>\n",
       "    </tr>\n",
       "    <tr>\n",
       "      <th>hadoublesan</th>\n",
       "      <td>1</td>\n",
       "      <td>1</td>\n",
       "      <td>1</td>\n",
       "      <td>1</td>\n",
       "      <td>1</td>\n",
       "    </tr>\n",
       "    <tr>\n",
       "      <th>hannahbrown.mp3</th>\n",
       "      <td>1</td>\n",
       "      <td>1</td>\n",
       "      <td>1</td>\n",
       "      <td>1</td>\n",
       "      <td>1</td>\n",
       "    </tr>\n",
       "    <tr>\n",
       "      <th>hattie_willoughby7</th>\n",
       "      <td>1</td>\n",
       "      <td>1</td>\n",
       "      <td>1</td>\n",
       "      <td>1</td>\n",
       "      <td>1</td>\n",
       "    </tr>\n",
       "    <tr>\n",
       "      <th>headvempty</th>\n",
       "      <td>1</td>\n",
       "      <td>1</td>\n",
       "      <td>1</td>\n",
       "      <td>1</td>\n",
       "      <td>1</td>\n",
       "    </tr>\n",
       "    <tr>\n",
       "      <th>zonekx_444</th>\n",
       "      <td>1</td>\n",
       "      <td>1</td>\n",
       "      <td>1</td>\n",
       "      <td>1</td>\n",
       "      <td>1</td>\n",
       "    </tr>\n",
       "  </tbody>\n",
       "</table>\n",
       "<p>980 rows × 5 columns</p>\n",
       "</div>"
      ],
      "text/plain": [
       "                             string_map_data  Time of Like  Time of Save  \\\n",
       "title                                                                      \n",
       "barbequebaconburgereveryday                6             6             6   \n",
       "amitkumar_11ak                             5             5             5   \n",
       "noahwaybabe                                5             5             5   \n",
       "meas.says                                  5             5             5   \n",
       "dannyisinyourphone                         5             5             5   \n",
       "...                                      ...           ...           ...   \n",
       "hadoublesan                                1             1             1   \n",
       "hannahbrown.mp3                            1             1             1   \n",
       "hattie_willoughby7                         1             1             1   \n",
       "headvempty                                 1             1             1   \n",
       "zonekx_444                                 1             1             1   \n",
       "\n",
       "                             Date of Save  href  \n",
       "title                                            \n",
       "barbequebaconburgereveryday             6     6  \n",
       "amitkumar_11ak                          5     5  \n",
       "noahwaybabe                             5     5  \n",
       "meas.says                               5     5  \n",
       "dannyisinyourphone                      5     5  \n",
       "...                                   ...   ...  \n",
       "hadoublesan                             1     1  \n",
       "hannahbrown.mp3                         1     1  \n",
       "hattie_willoughby7                      1     1  \n",
       "headvempty                              1     1  \n",
       "zonekx_444                              1     1  \n",
       "\n",
       "[980 rows x 5 columns]"
      ]
     },
     "execution_count": 43,
     "metadata": {},
     "output_type": "execute_result"
    }
   ],
   "source": [
    "df_tidy.groupby('title').count().sort_values('Time of Like', ascending = False)"
   ]
  },
  {
   "cell_type": "markdown",
   "id": "d010dddc-4457-4f46-aee0-e5f7e17e51bc",
   "metadata": {},
   "source": [
    "## Section 10"
   ]
  },
  {
   "cell_type": "markdown",
   "id": "cbbbc8bf-9d29-478f-b9a8-88a5455a0ef9",
   "metadata": {},
   "source": [
    "I think the DataFrame represents different pieces of information about my saved posts. The title column seems to be the name of the account that created the post I saved. The Time of Save and Date of Save columns represent the date and time I saved the post (however I do not understand how to interpret the numbers in the Time of Save column). The href column is a link to the post I saved. I am not sure what the string_map_data is. I think it might be all the information that the data stored about my saved posts. \n",
    "\n",
    "I do not think my DataFrame of my saved posts meets tidy principles. This is because I could not get the values column. I tried my best to make it as tidy as possible, but I could not get the values column into my DataFrame like we did in Section 4. I am also not sure what the value column represents. \n",
    "\n",
    "I think the DataFrame created from my saved posts data can be used to test my hypothesis because I was able to get the time and date of each saved post. \n",
    "\n",
    "My hypothesis was I like more posts during night hours (11pm-2am) than I do any other time of day. The first 10 rows of data from my saved posts (In Section 9 of this report) do not support this hypothesis, as 9 out of 10 saved posts were saved during the 16th and 17th hours of the day (4pm and 5pm), which does not fall into the 11pm-2am time window. \n",
    "\n",
    "However, this does not necessarily mean that my hypothesis is entirely false, as this only shows 10 rows out of 980 rows of the data from my saved posts. Another approach to test this hypothesis could be to look at other rows within the data. Maybe the next steps to test this hypothesis could be to look at the last 10 rows of the data, or to find a way to look at some of the rows in the middle of the data. \n"
   ]
  },
  {
   "cell_type": "code",
   "execution_count": null,
   "id": "0f58512d-3c8e-48bc-955f-a08116894568",
   "metadata": {},
   "outputs": [],
   "source": []
  }
 ],
 "metadata": {
  "kernelspec": {
   "display_name": "Python 3 (ipykernel)",
   "language": "python",
   "name": "python3"
  },
  "language_info": {
   "codemirror_mode": {
    "name": "ipython",
    "version": 3
   },
   "file_extension": ".py",
   "mimetype": "text/x-python",
   "name": "python",
   "nbconvert_exporter": "python",
   "pygments_lexer": "ipython3",
   "version": "3.12.11"
  }
 },
 "nbformat": 4,
 "nbformat_minor": 5
}
