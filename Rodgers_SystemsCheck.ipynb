{
 "cells": [
  {
   "cell_type": "markdown",
   "id": "5718698e-4201-45fe-a474-7382535f440d",
   "metadata": {},
   "source": [
    "# Systems Check\n",
    "## Clare Rodgers\n",
    "### 8/22/2025"
   ]
  },
  {
   "cell_type": "markdown",
   "id": "34f2aeb2-9ab4-41fe-b229-19e506f06e82",
   "metadata": {},
   "source": [
    "In this class I want to learn more about **Python**. This will help me in my future *career*, since I would like to become a **web designer**.\n",
    "\n",
    "In this class, I would like to learn:\n",
    "1. How to code in Python.\n",
    "2. More about how companies use data.\n",
    "3. Privacy issues that come with using data.\n",
    "4. How to use data ethically.\n",
    "\n",
    "Some other careers I would be interested in are:\n",
    "- Comic Illustrator\n",
    "- Editorial Illustrator"
   ]
  },
  {
   "cell_type": "markdown",
   "id": "67af19ed-cf3d-4684-8a47-a5612b451c05",
   "metadata": {},
   "source": [
    "![ducks](https://upload.wikimedia.org/wikipedia/commons/thumb/b/bf/Anas_platyrhynchos_male_female_quadrat.jpg/330px-Anas_platyrhynchos_male_female_quadrat.jpg)"
   ]
  },
  {
   "cell_type": "code",
   "execution_count": null,
   "id": "c044eb80-faaf-40bd-b8c9-ea9aec1c8063",
   "metadata": {},
   "outputs": [],
   "source": []
  }
 ],
 "metadata": {
  "kernelspec": {
   "display_name": "Python 3 (ipykernel)",
   "language": "python",
   "name": "python3"
  },
  "language_info": {
   "codemirror_mode": {
    "name": "ipython",
    "version": 3
   },
   "file_extension": ".py",
   "mimetype": "text/x-python",
   "name": "python",
   "nbconvert_exporter": "python",
   "pygments_lexer": "ipython3",
   "version": "3.12.11"
  }
 },
 "nbformat": 4,
 "nbformat_minor": 5
}
